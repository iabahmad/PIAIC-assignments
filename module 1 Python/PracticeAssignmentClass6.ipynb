{
 "cells": [
  {
   "cell_type": "markdown",
   "id": "b5ec9d3e",
   "metadata": {},
   "source": [
    "### Task1:\n",
    "You need to code a program that prints numbers from 1 to 20 except multiple of 2 & 3.\n",
    "\n",
    "Hint: use \"modulo\" operator and \"and/or\" operators"
   ]
  },
  {
   "cell_type": "code",
   "execution_count": 20,
   "id": "a94f69b5",
   "metadata": {},
   "outputs": [
    {
     "name": "stdout",
     "output_type": "stream",
     "text": [
      "1\n",
      "5\n",
      "7\n",
      "11\n",
      "13\n",
      "17\n",
      "19\n"
     ]
    }
   ],
   "source": [
    "# You need to code a program that prints numbers from 1 to 20 except multiple of 2 & 3.\n",
    "# You need to use a for loop to print the numbers.\n",
    "\n",
    "num = 0 \n",
    "while num <= 20:\n",
    "    if num % 2 == 0 or num % 3 == 0:\n",
    "        num += 1\n",
    "        continue\n",
    "    print(num)\n",
    "    num += 1\n",
    "    "
   ]
  },
  {
   "cell_type": "markdown",
   "id": "b123a205",
   "metadata": {},
   "source": [
    "### Task2:\n",
    "Write a program that keep on accepting number from the user until user enters Zero. Display the sum and average of all the numbers.\n",
    "\n",
    "Hint: Use while loop with flag. "
   ]
  },
  {
   "cell_type": "code",
   "execution_count": 12,
   "id": "29296c1c",
   "metadata": {},
   "outputs": [
    {
     "name": "stdout",
     "output_type": "stream",
     "text": [
      "4\n",
      "2.0\n"
     ]
    }
   ],
   "source": [
    "# Your code goes here\n",
    "\n",
    "flag = True\n",
    "num = []\n",
    "while flag:\n",
    "    a=int(input(\"Enter a number: \"))\n",
    "    if a ==0:\n",
    "        flag = False\n",
    "    else:\n",
    "        num.append(a)\n",
    "print(sum(num))\n",
    "print(sum(num)/len(num))"
   ]
  },
  {
   "cell_type": "markdown",
   "id": "9ea5024e",
   "metadata": {},
   "source": [
    "### Task3:\n",
    "Accept 10 numbers from the user and display their average.\n",
    "\n",
    "Hint: Use loop for accepting numbers or use split to take input in one go"
   ]
  },
  {
   "cell_type": "code",
   "execution_count": 32,
   "id": "5bebbbe8",
   "metadata": {},
   "outputs": [
    {
     "name": "stdout",
     "output_type": "stream",
     "text": [
      "2.0\n"
     ]
    }
   ],
   "source": [
    "# Your code goes here\n",
    "num = input(\"Enter a number: \").split(',')\n",
    "sum=0\n",
    "for i in num:\n",
    "    sum += int(i)\n",
    "print(sum/len(num))\n"
   ]
  },
  {
   "cell_type": "markdown",
   "id": "e17466dd",
   "metadata": {},
   "source": [
    "### Task4:\n",
    "Write a program to display sum of odd numbers and even numbers that fall between 12 and 37(including both numbers)\n"
   ]
  },
  {
   "cell_type": "code",
   "execution_count": 33,
   "id": "d5715b5c",
   "metadata": {},
   "outputs": [
    {
     "name": "stdout",
     "output_type": "stream",
     "text": [
      "odd numbers:  [13, 15, 17, 19, 21, 23, 25, 27, 29, 31, 33, 35, 37]\n",
      "even numbers:  [12, 14, 16, 18, 20, 22, 24, 26, 28, 30, 32, 34, 36]\n"
     ]
    }
   ],
   "source": [
    "# Your code goes here\n",
    "a = 12\n",
    "odd = list()\n",
    "evens = list()\n",
    "while a <=37:\n",
    "    if a % 2 == 0:\n",
    "        evens.append(a)\n",
    "        a +=1\n",
    "    else:\n",
    "        odd.append(a)\n",
    "        a +=1\n",
    "print(\"odd numbers: \", odd)\n",
    "print(\"even numbers: \", evens)\n",
    "\n",
    "        "
   ]
  },
  {
   "cell_type": "markdown",
   "id": "4c64217d",
   "metadata": {},
   "source": [
    "### Task5:\n",
    "Write a program to print table of a number accepted from user.\n"
   ]
  },
  {
   "cell_type": "raw",
   "id": "0bf864bf",
   "metadata": {},
   "source": [
    "\n",
    "Output: \n",
    "7 * 1 = 7\n",
    "7 * 2 = 14\n",
    "7 * 3 = 21\n",
    "7 * 4 = 28\n",
    "7 * 5 = 35\n",
    "7 * 6 = 42\n",
    "7 * 7 = 49\n",
    "7 * 8 = 56\n",
    "7 * 9 = 63\n",
    "7 * 10 = 70\n",
    "           "
   ]
  },
  {
   "cell_type": "code",
   "execution_count": 34,
   "id": "3305bb3d",
   "metadata": {},
   "outputs": [
    {
     "name": "stdout",
     "output_type": "stream",
     "text": [
      "8  *  0  =  0\n",
      "8  *  1  =  8\n",
      "8  *  2  =  16\n",
      "8  *  3  =  24\n",
      "8  *  4  =  32\n",
      "8  *  5  =  40\n",
      "8  *  6  =  48\n",
      "8  *  7  =  56\n",
      "8  *  8  =  64\n",
      "8  *  9  =  72\n",
      "8  *  10  =  80\n"
     ]
    }
   ],
   "source": [
    "# Your code goes here\n",
    "a = int(input(\"Enter a number: \"))\n",
    "b = 0\n",
    "while b <=10:\n",
    "    print(a,\" * \",b,\" = \",a*b)\n",
    "    b+=1"
   ]
  },
  {
   "cell_type": "markdown",
   "id": "fc08df86",
   "metadata": {},
   "source": [
    "### Task6:\n",
    "Write a program to display product of the digits of a number accepted from the user.\n",
    "\n",
    "If user inputs:123 Outputs 6\n",
    "\n",
    "If user inputs: 567 Outputs 210"
   ]
  },
  {
   "cell_type": "code",
   "execution_count": 39,
   "id": "e793d4c9",
   "metadata": {},
   "outputs": [
    {
     "name": "stdout",
     "output_type": "stream",
     "text": [
      "20\n"
     ]
    }
   ],
   "source": [
    "# Write a program to display product of the digits of a number accepted from the user.\n",
    "# For example if the number is 123 then the output should be 6.\n",
    "\n",
    "num = int(input(\"Enter a number: \"))\n",
    "if num == 0 and num == 10:\n",
    "    print(\"Invalid number\")\n",
    "else:\n",
    "    sum = 1\n",
    "    while num > 0:\n",
    "        sum *= num % 10\n",
    "        num = num // 10\n",
    "    print(sum)"
   ]
  },
  {
   "cell_type": "markdown",
   "id": "f041397e",
   "metadata": {},
   "source": [
    "### Task7: \n",
    "Write a program to print first 10 even numbers in reverse order."
   ]
  },
  {
   "cell_type": "code",
   "execution_count": 42,
   "id": "b639f15e",
   "metadata": {},
   "outputs": [
    {
     "name": "stdout",
     "output_type": "stream",
     "text": [
      "20\n",
      "18\n",
      "16\n",
      "14\n",
      "12\n",
      "10\n",
      "8\n",
      "6\n",
      "4\n",
      "2\n",
      "0\n"
     ]
    }
   ],
   "source": [
    "# Your code goes here\n",
    "num = 20\n",
    "while num >=0:\n",
    "    if num % 2 == 0:\n",
    "        print(num)\n",
    "    num -= 1"
   ]
  },
  {
   "cell_type": "markdown",
   "id": "37b679bb",
   "metadata": {},
   "source": [
    "### Task8:\n",
    "Write a program to find the sum of the digits of a number accepted from user\n",
    "\n",
    "If user inputs:123 Outputs 6\n",
    "\n",
    "If user inputs: 567 Outputs 18"
   ]
  },
  {
   "cell_type": "code",
   "execution_count": 57,
   "id": "adef66ce",
   "metadata": {},
   "outputs": [
    {
     "name": "stdout",
     "output_type": "stream",
     "text": [
      "5\n"
     ]
    }
   ],
   "source": [
    "# Your code goes here\n",
    "\n",
    "# write a program to find the sum of the digits of a number accepted from the user.\n",
    "# For example if the number is 123 then the output should be 6.\n",
    "\n",
    "a = int(input(\"Enter a number: \"))\n",
    "sum = 0\n",
    "while a > 0:\n",
    "    sum += a % 10\n",
    "    a = a // 10\n",
    "print(sum)\n",
    "\n",
    "\n",
    "\n"
   ]
  },
  {
   "cell_type": "markdown",
   "id": "8b87f377",
   "metadata": {},
   "source": [
    "### Task9:\n",
    "Write a program that accepts a sentence and calculate the number of letters and digits.\n",
    "\n",
    "Suppose the following input is supplied to the program:\n",
    "\n",
    "hello world! 123\n",
    "\n",
    "Then, the output should be:\n",
    "\n",
    "LETTERS 10\n",
    "\n",
    "DIGITS 3\n"
   ]
  },
  {
   "cell_type": "code",
   "execution_count": 1,
   "id": "73835ab3",
   "metadata": {},
   "outputs": [
    {
     "name": "stdout",
     "output_type": "stream",
     "text": [
      "Letters:  10\n",
      "Digits:  3\n"
     ]
    }
   ],
   "source": [
    "# Write a program that accepts a sentence and calculate the number of letters and digits.\n",
    "# For example if the user enters “Hello 67 World” the output should be:\n",
    "# Letters 6\n",
    "# Digits 2\n",
    "\n",
    "inp = input(\"Enter a sentence: \")\n",
    "letters = 0\n",
    "digits = 0\n",
    "for i in inp:\n",
    "    if i.isalpha():\n",
    "        letters += 1\n",
    "    elif i.isdigit():\n",
    "        digits += 1\n",
    "print(\"Letters: \", letters)\n",
    "print(\"Digits: \", digits)"
   ]
  },
  {
   "cell_type": "markdown",
   "id": "a25b412b",
   "metadata": {},
   "source": [
    "### Task10: \n",
    "You need to trace and make a list of all such numbers from1000 to 3000 in which all the digits are even numbers."
   ]
  },
  {
   "cell_type": "code",
   "execution_count": 3,
   "id": "a3c27a5e",
   "metadata": {},
   "outputs": [
    {
     "name": "stdout",
     "output_type": "stream",
     "text": [
      "Evens:  1001\n",
      "Odds:  1000\n"
     ]
    }
   ],
   "source": [
    "# Your code goes here\n",
    "a = 1000\n",
    "evens = list()\n",
    "odds = list()\n",
    "while a <= 3000:\n",
    "    if a%2==0:\n",
    "        evens.append(a)\n",
    "    else:\n",
    "        odds.append(a)\n",
    "    a += 1\n",
    "print(\"Evens: \", len(evens))\n",
    "print(\"Odds: \", len(odds))\n",
    "\n"
   ]
  },
  {
   "cell_type": "markdown",
   "id": "ddc08744",
   "metadata": {},
   "source": [
    "### Task11: \n",
    "You need to write a program that counts the number of vowels in a given sentence as input from console. \n",
    "\n",
    "Suppose the following input is supplied to the program:\n",
    "\n",
    "Hello world! Practice makes perfect\n",
    "\n",
    "Then, the output should be:\n",
    "\n",
    "a appeared 2 times\n",
    "\n",
    "e appeared 5 times\n",
    "\n",
    "i appeared  1 time\n",
    "\n",
    "o appeared 2 times\n",
    "\n",
    "u appeared 0 time\n"
   ]
  },
  {
   "cell_type": "code",
   "execution_count": 62,
   "id": "0ed960fd",
   "metadata": {},
   "outputs": [
    {
     "name": "stdout",
     "output_type": "stream",
     "text": [
      "{'a': 2, 'e': 1, 'i': 3, 'o': 1, 'u': 2}\n"
     ]
    }
   ],
   "source": [
    "# Your code goes here\n",
    "sent = input(\"Enter a sentence: \")\n",
    "vowels = {'a': 0, 'e': 0, 'i': 0, 'o': 0, 'u': 0}\n",
    "for i in sent:\n",
    "    if i in vowels:\n",
    "        vowels[i] += 1\n",
    "print(vowels)"
   ]
  },
  {
   "cell_type": "markdown",
   "id": "45a0c3c4",
   "metadata": {},
   "source": [
    "### Task12:\n",
    "You need to write a program that takes sequence of lines as input and prints the lines after making all characters in the sentence capitalized.\n",
    "\n",
    "Suppose the following input is supplied to the program:\n",
    "\n",
    "Hello world\n",
    "\n",
    "Practice makes perfect\n",
    "\n",
    "Then, the output should be:\n",
    "\n",
    "HELLO WORLD\n",
    "PRACTICE MAKES PERFECT"
   ]
  },
  {
   "cell_type": "code",
   "execution_count": 63,
   "id": "029fc3d6",
   "metadata": {},
   "outputs": [
    {
     "name": "stdout",
     "output_type": "stream",
     "text": [
      "HELLO WORLD\n"
     ]
    }
   ],
   "source": [
    "# Your code goes here\n",
    "sent = input(\"Enter a sentence: \")\n",
    "print(sent.upper())"
   ]
  },
  {
   "cell_type": "markdown",
   "id": "a374068f",
   "metadata": {},
   "source": [
    "### Task13:\n",
    "You need to write a code that takes a comma separated sequence of words as input and prints the words in a comma-separated sequence after sorting them alphabetically.\n",
    "\n",
    "Suppose the following input is supplied to the program:\n",
    "\n",
    "without,hello,bag,world\n",
    "\n",
    "Then, the output should be:\n",
    "\n",
    "bag,hello,without,world"
   ]
  },
  {
   "cell_type": "code",
   "execution_count": 66,
   "id": "488509b9",
   "metadata": {},
   "outputs": [
    {
     "name": "stdout",
     "output_type": "stream",
     "text": [
      "['abdullah', 'ali', 'babar']\n"
     ]
    }
   ],
   "source": [
    "# you need to write a code that takes a comma seperated sequence of words as input and prints the words in a comma seperated sequence after sorting them alphabetically.\n",
    "# For example if the user enters:\n",
    "# without,hello,bag,world,then the output should be:\n",
    "# bag,hello,without,world\n",
    "\n",
    "b = input(\"Enter a sentence: \")\n",
    "b = b.split(',')\n",
    "b.sort()\n",
    "print(b)\n"
   ]
  },
  {
   "cell_type": "markdown",
   "id": "0d9422e7",
   "metadata": {},
   "source": [
    "### Task14:\n",
    "You need code a program that calculates and prints the value according to the given formula:\n",
    "P = Square root of [(2 * A * B)/C]\n",
    "\n",
    "Following are the fixed values of A and B:\n",
    "\n",
    "A is 50. B is 30.\n",
    "\n",
    "The values of the literal C should be taken as console input to your program in a comma-separated sequence.\n",
    "\n",
    "Example:\n",
    "Let us assume the following comma separated input sequence is given to the program:\n",
    "100,150,180\n",
    "\n",
    "The output of the program should be:\n",
    "18,22,24"
   ]
  },
  {
   "cell_type": "code",
   "execution_count": 3,
   "id": "1b6731be",
   "metadata": {},
   "outputs": [
    {
     "name": "stdout",
     "output_type": "stream",
     "text": [
      "5.477225575051661\n",
      "4.47213595499958\n",
      "4.08248290463863\n"
     ]
    }
   ],
   "source": [
    "# Your code goes here\n",
    "import math\n",
    "a=50\n",
    "b=30\n",
    "inp=input(\"enter numbers seperated by comma :\").split(',')\n",
    "for c in (inp):\n",
    "    print(((2*a*b)/int(c))**0.5)\n"
   ]
  },
  {
   "cell_type": "markdown",
   "id": "87f9f13d",
   "metadata": {},
   "source": [
    "### Task15:\n",
    "You need to write a ocde in python that finds all such numbers which are divisible by 7 but are not a multiple of 5,\n",
    "between 2000 and 3200 (both included).\n",
    "\n",
    "Print the obtained numbers in a comma-separated sequence on a single line\n",
    "\n",
    "Hint: modulo operator, and/or operator, for loop /while loop"
   ]
  },
  {
   "cell_type": "code",
   "execution_count": 1,
   "id": "ba3d9d96",
   "metadata": {},
   "outputs": [
    {
     "name": "stdout",
     "output_type": "stream",
     "text": [
      "2002\n",
      "2009\n",
      "2016\n",
      "2023\n",
      "2037\n",
      "2044\n",
      "2051\n",
      "2058\n",
      "2072\n",
      "2079\n",
      "2086\n",
      "2093\n",
      "2107\n",
      "2114\n",
      "2121\n",
      "2128\n",
      "2142\n",
      "2149\n",
      "2156\n",
      "2163\n",
      "2177\n",
      "2184\n",
      "2191\n",
      "2198\n",
      "2212\n",
      "2219\n",
      "2226\n",
      "2233\n",
      "2247\n",
      "2254\n",
      "2261\n",
      "2268\n",
      "2282\n",
      "2289\n",
      "2296\n",
      "2303\n",
      "2317\n",
      "2324\n",
      "2331\n",
      "2338\n",
      "2352\n",
      "2359\n",
      "2366\n",
      "2373\n",
      "2387\n",
      "2394\n",
      "2401\n",
      "2408\n",
      "2422\n",
      "2429\n",
      "2436\n",
      "2443\n",
      "2457\n",
      "2464\n",
      "2471\n",
      "2478\n",
      "2492\n",
      "2499\n",
      "2506\n",
      "2513\n",
      "2527\n",
      "2534\n",
      "2541\n",
      "2548\n",
      "2562\n",
      "2569\n",
      "2576\n",
      "2583\n",
      "2597\n",
      "2604\n",
      "2611\n",
      "2618\n",
      "2632\n",
      "2639\n",
      "2646\n",
      "2653\n",
      "2667\n",
      "2674\n",
      "2681\n",
      "2688\n",
      "2702\n",
      "2709\n",
      "2716\n",
      "2723\n",
      "2737\n",
      "2744\n",
      "2751\n",
      "2758\n",
      "2772\n",
      "2779\n",
      "2786\n",
      "2793\n",
      "2807\n",
      "2814\n",
      "2821\n",
      "2828\n",
      "2842\n",
      "2849\n",
      "2856\n",
      "2863\n",
      "2877\n",
      "2884\n",
      "2891\n",
      "2898\n",
      "2912\n",
      "2919\n",
      "2926\n",
      "2933\n",
      "2947\n",
      "2954\n",
      "2961\n",
      "2968\n",
      "2982\n",
      "2989\n",
      "2996\n",
      "3003\n",
      "3017\n",
      "3024\n",
      "3031\n",
      "3038\n",
      "3052\n",
      "3059\n",
      "3066\n",
      "3073\n",
      "3087\n",
      "3094\n",
      "3101\n",
      "3108\n",
      "3122\n",
      "3129\n",
      "3136\n",
      "3143\n",
      "3157\n",
      "3164\n",
      "3171\n",
      "3178\n",
      "3192\n",
      "3199\n"
     ]
    }
   ],
   "source": [
    "# Your code goes here\n",
    "a= 2000\n",
    "while a <= 3200:\n",
    "    if a%7==0 and a%5 != 0:\n",
    "        print(a)\n",
    "    a += 1"
   ]
  },
  {
   "cell_type": "markdown",
   "id": "f75c81d1",
   "metadata": {},
   "source": [
    "### Task16:\n",
    "With a given integral number n, write a program to generate a dictionary that contains (i, i*i) such that is an integral number between 1 and n (both included). and then the program should print the dictionary.\n",
    "\n",
    "Suppose the following input is supplied to the program:\n",
    "\n",
    "8\n",
    "\n",
    "Then, the output should be:\n",
    "\n",
    "{1: 1, 2: 4, 3: 9, 4: 16, 5: 25, 6: 36, 7: 49, 8: 64}"
   ]
  },
  {
   "cell_type": "code",
   "execution_count": 82,
   "id": "451bacfc",
   "metadata": {},
   "outputs": [
    {
     "name": "stdout",
     "output_type": "stream",
     "text": [
      "{1: 1, 2: 4, 3: 9, 4: 16, 5: 25, 6: 36, 7: 49, 8: 64, 9: 81, 10: 100}\n"
     ]
    }
   ],
   "source": [
    "# Your code goes here\n",
    "a = dict()\n",
    "n = int(input('enter a number'))\n",
    "for i in range (1,n+1):\n",
    "    a[i]= i*i\n",
    "print(a)"
   ]
  },
  {
   "cell_type": "markdown",
   "id": "bd2b39a0",
   "metadata": {},
   "source": [
    "### Task17:\n",
    "You need to write a code which accepts a sequence of comma separated 4 digit binary numbers as its input and then check whether they are divisible by 5 or not. \n",
    "\n",
    "The numbers that are divisible by 5 are to be printed in a comma separated sequence.\n",
    "\n",
    "Example:\n",
    "\n",
    "0100,0011,1010,1001\n",
    "\n",
    "Then the output should be:\n",
    "1010\n",
    "\n",
    "Reference: \n",
    "1) https://www.datacamp.com/.../python-data-type-conversion\n",
    "\n",
    "2) https://stackoverflow.com/questions/21765779/converting-binary-to-decimal-integer-output?fbclid=IwAR3DD_oiq5pn99IjyxSJgojvB5W6M4JqQtv4EUl_IF_DtmuRXlP-DswcKAA"
   ]
  },
  {
   "cell_type": "code",
   "execution_count": 92,
   "id": "d88c2527",
   "metadata": {},
   "outputs": [
    {
     "name": "stdout",
     "output_type": "stream",
     "text": [
      "not divisible by 5: 0100\n",
      "not divisible by 5: 1001\n",
      "0101\n",
      "1010\n"
     ]
    }
   ],
   "source": [
    "# Your code goes here\n",
    "a=input('enter numbers seperated by a comma').split(',')\n",
    "for i in a:\n",
    "    if int(i,2) %5 == 0:\n",
    "        print( i)\n",
    "    else:\n",
    "        print('not divisible by 5:' , i)"
   ]
  },
  {
   "cell_type": "code",
   "execution_count": null,
   "id": "aab14430",
   "metadata": {},
   "outputs": [],
   "source": []
  }
 ],
 "metadata": {
  "kernelspec": {
   "display_name": "Python 3.10.1 64-bit",
   "language": "python",
   "name": "python3"
  },
  "language_info": {
   "codemirror_mode": {
    "name": "ipython",
    "version": 3
   },
   "file_extension": ".py",
   "mimetype": "text/x-python",
   "name": "python",
   "nbconvert_exporter": "python",
   "pygments_lexer": "ipython3",
   "version": "3.10.1"
  },
  "vscode": {
   "interpreter": {
    "hash": "fcdac387b723dab6cabf3be3f58bcaa9a14417ae421727ee28a12c9f5deacad3"
   }
  }
 },
 "nbformat": 4,
 "nbformat_minor": 5
}
