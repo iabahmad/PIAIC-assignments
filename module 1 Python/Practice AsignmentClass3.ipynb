{
 "cells": [
  {
   "cell_type": "markdown",
   "id": "f6519aad",
   "metadata": {},
   "source": [
    "# User input"
   ]
  },
  {
   "cell_type": "raw",
   "id": "948191fe",
   "metadata": {},
   "source": [
    "1. Take a sentence input from user using input function. Count occurence of a particular character/word in the sentence and print the message that the character appear this many times in the sentence.\n",
    "Like if user inputs> \"My name is Sana. I am an undergraduate student. I am learning Artificial Intellegence in PIAIC\"\n",
    "Your output should be:\n",
    "    I appears 5 times in your sentence\n",
    "Hint: nahi batounga use string methods.\n",
    "Note: Sana is a boy. His full name is SanaUllah😄"
   ]
  },
  {
   "cell_type": "code",
   "execution_count": 4,
   "id": "9a358cab",
   "metadata": {},
   "outputs": [
    {
     "name": "stdout",
     "output_type": "stream",
     "text": [
      "3\n"
     ]
    }
   ],
   "source": [
    "a = input('Enter a sentence')\n",
    "print(a.count('s'))\n"
   ]
  },
  {
   "cell_type": "raw",
   "id": "bf6c3672",
   "metadata": {},
   "source": [
    "2. Take a number input from user and print the square of that number. \n",
    "\n",
    "if a user inputs 10 Your output should be like:\n",
    "    The square of 10 is 100\n",
    "if a user inputs 5 Your output should be like:\n",
    "    The square of 5 is 25\n",
    "if a user inputs 2 Your output should be like:\n",
    "    The square of 2 is 4\n"
   ]
  },
  {
   "cell_type": "code",
   "execution_count": 5,
   "id": "48b3853f",
   "metadata": {},
   "outputs": [
    {
     "name": "stdout",
     "output_type": "stream",
     "text": [
      "square of  10  is  100\n"
     ]
    }
   ],
   "source": [
    "a = int(input('Enter a number'))\n",
    "print(\"square of \",a,' is ',a*a)"
   ]
  },
  {
   "cell_type": "raw",
   "id": "0da0f529",
   "metadata": {},
   "source": [
    "3. Take two inputs from user using two input functions add these two numbers and print the result.\n",
    "For example if a user inputs 10 in first input, 20 in second input then your output mustbe like:\n",
    "    The sum of 10 and 20 is 30\n",
    "    \n",
    "For example if a user inputs 12 in first input, 30 in second input then your output mustbe like:\n",
    "    The sum of 12 and 30 is 42\n",
    "\n",
    "For example if a user inputs 100 in first input, 200 in second input then your out put mustbe like:\n",
    "    The sum of 100 and 200 is 300"
   ]
  },
  {
   "cell_type": "code",
   "execution_count": 6,
   "id": "9d174740",
   "metadata": {},
   "outputs": [
    {
     "name": "stdout",
     "output_type": "stream",
     "text": [
      "the sum of  3  and  4  is  7\n"
     ]
    }
   ],
   "source": [
    "a= int(input('Enter a number'))\n",
    "b= int(input('enter another number'))\n",
    "print(\"the sum of \",a,\" and \",b,\" is \",a+b)"
   ]
  },
  {
   "cell_type": "raw",
   "id": "f957eb50",
   "metadata": {},
   "source": [
    "4. Format a string to display a card like string:\n",
    "    \n",
    "            Presidential Initiative for AI & Computing\n",
    "                          ID CARD\n",
    "            Student Name   : Asad Ali\n",
    "            Father Name    : Amjad Ali\n",
    "            Date of Birth  : 01-01-2000\n",
    "            Course Enrolled: Artificial Intelligence\n",
    "            Batch          : 2022\n",
    "            Day            : Saturday \n",
    "            Centre         : Sir Syed University of Engg and Technology\n",
    "                \n",
    "Note: all the field values must be taken as user inputs and stored in variable"
   ]
  },
  {
   "cell_type": "code",
   "execution_count": 12,
   "id": "0f2d4d2d",
   "metadata": {},
   "outputs": [
    {
     "name": "stdout",
     "output_type": "stream",
     "text": [
      " Presidential Initiative for AI & Computing \n",
      "\t\tID Card \n",
      "STUDENT NAME\t:\t a \n",
      "FATHER NAME\t:\t a \n",
      "DATE OF BIRTH\t:\t a \n",
      "COURSE\t\t:\t a \n",
      "BATCH\t\t:\t a \n",
      "DATE\t\t:\t a \n",
      "CENTRE\t\t:\t a\n"
     ]
    }
   ],
   "source": [
    "name=input('Enter your name')\n",
    "fname = input('Enter your father name')\n",
    "dob = input('Enter your date of birth')\n",
    "course = input('Enter your course')\n",
    "batch = input('Enter your batch')\n",
    "date = input('Enter the date')\n",
    "centre = input('Enter the centre')\n",
    "\n",
    "print(\" Presidential Initiative for AI & Computing\",\n",
    "\"\\n\\t\\tID Card\",\n",
    "\"\\nSTUDENT NAME\\t:\\t\",name,\n",
    "\"\\nFATHER NAME\\t:\\t\",fname,\n",
    "\"\\nDATE OF BIRTH\\t:\\t\",dob,\n",
    "\"\\nCOURSE\\t\\t:\\t\",course,\n",
    "\"\\nBATCH\\t\\t:\\t\",batch,\n",
    "\"\\nDATE\\t\\t:\\t\",date,\n",
    "\"\\nCENTRE\\t\\t:\\t\",centre)"
   ]
  },
  {
   "cell_type": "code",
   "execution_count": null,
   "id": "64e9e2dc",
   "metadata": {},
   "outputs": [],
   "source": []
  }
 ],
 "metadata": {
  "kernelspec": {
   "display_name": "Python 3.10.1 64-bit",
   "language": "python",
   "name": "python3"
  },
  "language_info": {
   "codemirror_mode": {
    "name": "ipython",
    "version": 3
   },
   "file_extension": ".py",
   "mimetype": "text/x-python",
   "name": "python",
   "nbconvert_exporter": "python",
   "pygments_lexer": "ipython3",
   "version": "3.10.1"
  },
  "vscode": {
   "interpreter": {
    "hash": "fcdac387b723dab6cabf3be3f58bcaa9a14417ae421727ee28a12c9f5deacad3"
   }
  }
 },
 "nbformat": 4,
 "nbformat_minor": 5
}
